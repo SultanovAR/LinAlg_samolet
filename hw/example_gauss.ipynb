{
 "cells": [
  {
   "cell_type": "code",
   "execution_count": 1,
   "metadata": {},
   "outputs": [],
   "source": [
    "# Описание метода Гаусса"
   ]
  },
  {
   "cell_type": "code",
   "execution_count": 2,
   "metadata": {},
   "outputs": [
    {
     "ename": "SyntaxError",
     "evalue": "unmatched ')' (3085257351.py, line 5)",
     "output_type": "error",
     "traceback": [
      "\u001b[0;36m  Cell \u001b[0;32mIn[2], line 5\u001b[0;36m\u001b[0m\n\u001b[0;31m    1)\u001b[0m\n\u001b[0m     ^\u001b[0m\n\u001b[0;31mSyntaxError\u001b[0m\u001b[0;31m:\u001b[0m unmatched ')'\n"
     ]
    }
   ],
   "source": [
    "#Описание задания\n",
    "\n",
    "класс - class Matrix. __str__(self, ); \n",
    "\n",
    "1) i := i + lambda * j\n",
    "2) swap i, j\n",
    "3) i := i * lambda, lambda != 0\n",
    "\n",
    "def solve()\n",
    "    self.forward_gauss()\n",
    "    1 2 3\n",
    "    2 3 4\n",
    "    3 4 2\n",
    "\n",
    "    1 1 1\n",
    "    0 1 1\n",
    "    0 0 0\n",
    "\n",
    "    self.backward_gauss()\n",
    "\n",
    "\n",
    "    1 0 0|3\n",
    "    0 1 1|4\n",
    "\n",
    "\n",
    "    x_1 = 3\n",
    "    x_2 = 4 - x_3\n",
    "    x_3\n",
    "\n",
    "    self.get_solution()\n",
    "\n",
    "    \n",
    "\n",
    "class Solution:\n",
    "    is_empty() -> bool\n",
    "    num_free_vars() -> int\n",
    "    get_some_solution(*args) -> Optional[List]:\n",
    "        len(args) == self.num_free_vars()\n",
    "        \n",
    "\n",
    "\n",
    "    \n",
    "\n",
    "    lambda x: [3, 4-x, x]\n",
    "    lambda: [3, 4, 1]\n",
    "    lambda: None\n",
    "\n",
    "    \n",
    "    \n"
   ]
  },
  {
   "cell_type": "code",
   "execution_count": null,
   "metadata": {},
   "outputs": [],
   "source": []
  }
 ],
 "metadata": {
  "kernelspec": {
   "display_name": "Python 3",
   "language": "python",
   "name": "python3"
  },
  "language_info": {
   "codemirror_mode": {
    "name": "ipython",
    "version": 3
   },
   "file_extension": ".py",
   "mimetype": "text/x-python",
   "name": "python",
   "nbconvert_exporter": "python",
   "pygments_lexer": "ipython3",
   "version": "3.11.4"
  },
  "orig_nbformat": 4
 },
 "nbformat": 4,
 "nbformat_minor": 2
}
