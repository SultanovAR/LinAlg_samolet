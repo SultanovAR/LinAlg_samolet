{
 "cells": [
  {
   "cell_type": "code",
   "execution_count": 1,
   "metadata": {},
   "outputs": [],
   "source": [
    "# Описание метода Гаусса"
   ]
  },
  {
   "cell_type": "code",
   "execution_count": 2,
   "metadata": {},
   "outputs": [
    {
     "ename": "SyntaxError",
     "evalue": "unmatched ')' (3085257351.py, line 5)",
     "output_type": "error",
     "traceback": [
      "\u001b[0;36m  Cell \u001b[0;32mIn[2], line 5\u001b[0;36m\u001b[0m\n\u001b[0;31m    1)\u001b[0m\n\u001b[0m     ^\u001b[0m\n\u001b[0;31mSyntaxError\u001b[0m\u001b[0;31m:\u001b[0m unmatched ')'\n"
     ]
    }
   ],
   "source": [
    "#Описание задания\n",
    "\n",
    "класс - class Matrix. __str__(self, ); \n",
    "\n",
    "1) i := i + lambda * j\n",
    "2) swap i, j\n",
    "3) i := i * lambda, lambda != 0\n",
    "\n",
    "def solve()\n",
    "    self.forward_gauss()\n",
    "    1 2 3\n",
    "    2 3 4\n",
    "    3 4 2\n",
    "\n",
    "    1 1 1\n",
    "    0 1 1\n",
    "    0 0 0\n",
    "\n",
    "    self.backward_gauss()\n",
    "\n",
    "\n",
    "    1 0 0|3\n",
    "    0 1 1|4\n",
    "\n",
    "\n",
    "    x_1 = 3\n",
    "    x_2 = 4 - x_3\n",
    "    x_3\n",
    "\n",
    "    self.get_solution()\n",
    "\n",
    "    \n",
    "\n",
    "class Solution:\n",
    "    is_empty() -> bool\n",
    "    num_free_vars() -> int\n",
    "    get_some_solution(*args) -> Optional[List]:\n",
    "        len(args) == self.num_free_vars()\n",
    "        \n",
    "\n",
    "\n",
    "    \n",
    "\n",
    "    lambda x: [3, 4-x, x]\n",
    "    lambda: [3, 4, 1]\n",
    "    lambda: None\n",
    "\n",
    "    \n",
    "    \n"
   ]
  },
  {
   "cell_type": "code",
   "execution_count": 1,
   "metadata": {},
   "outputs": [],
   "source": [
    "import numpy as np\n",
    "import sympy as sp\n",
    "from typing import List, Union"
   ]
  },
  {
   "cell_type": "code",
   "execution_count": 31,
   "metadata": {},
   "outputs": [],
   "source": [
    "m = np.array([\n",
    "    [1, 2, 3, 4],\n",
    "    [0, 0, 0 ,0],\n",
    "    [5, 6, 7, 7]\n",
    "])"
   ]
  },
  {
   "cell_type": "code",
   "execution_count": 34,
   "metadata": {},
   "outputs": [
    {
     "data": {
      "text/plain": [
       "array([False,  True, False])"
      ]
     },
     "execution_count": 34,
     "metadata": {},
     "output_type": "execute_result"
    }
   ],
   "source": [
    "np.all(m == 0, axis=1)"
   ]
  },
  {
   "cell_type": "code",
   "execution_count": null,
   "metadata": {},
   "outputs": [],
   "source": [
    "def swap_rows(m, i, j):\n",
    "    pass\n",
    "\n",
    "def multiply_and_add_rows(m, from_row, to_row, scale):\n",
    "    pass\n",
    "\n",
    "def multiply_row(m, row, scale):\n",
    "    pass"
   ]
  },
  {
   "cell_type": "code",
   "execution_count": 48,
   "metadata": {},
   "outputs": [],
   "source": [
    "M = np.array([\n",
    "    [1, 2, 3],\n",
    "    [4, 5, 6],\n",
    "    [7, 8, 9]\n",
    "])"
   ]
  },
  {
   "cell_type": "code",
   "execution_count": 49,
   "metadata": {},
   "outputs": [
    {
     "data": {
      "text/plain": [
       "array([[1, 2, 3],\n",
       "       [4, 5, 6]])"
      ]
     },
     "execution_count": 49,
     "metadata": {},
     "output_type": "execute_result"
    }
   ],
   "source": [
    "M[[i, i + j]]"
   ]
  },
  {
   "cell_type": "code",
   "execution_count": 46,
   "metadata": {},
   "outputs": [],
   "source": [
    "i = 0\n",
    "j = 1\n",
    "M[[i, i + j]] = M[[i + j, i]]"
   ]
  },
  {
   "cell_type": "code",
   "execution_count": 47,
   "metadata": {},
   "outputs": [
    {
     "data": {
      "text/plain": [
       "array([[4, 5, 6],\n",
       "       [1, 2, 3],\n",
       "       [7, 8, 9]])"
      ]
     },
     "execution_count": 47,
     "metadata": {},
     "output_type": "execute_result"
    }
   ],
   "source": [
    "M"
   ]
  },
  {
   "cell_type": "code",
   "execution_count": 45,
   "metadata": {},
   "outputs": [
    {
     "data": {
      "text/plain": [
       "array([[4, 5, 6],\n",
       "       [1, 2, 3]])"
      ]
     },
     "execution_count": 45,
     "metadata": {},
     "output_type": "execute_result"
    }
   ],
   "source": [
    "M[[i + j, i]]"
   ]
  },
  {
   "cell_type": "code",
   "execution_count": 75,
   "metadata": {},
   "outputs": [],
   "source": [
    "class Matrix:\n",
    "    def __init__(self, data: List[List[Union[int, float]]]):\n",
    "        self.data = np.array(data)\n",
    "        self.vars = sp.var(\n",
    "            [f'x{i}' for i in range(1, np.array(self.data).shape[1])]\n",
    "        )\n",
    "        self.equations = [\n",
    "            self.get_ith_equation(i)\n",
    "            for i\n",
    "            in range(len(data))\n",
    "        ]\n",
    "        self.triangular_matrix = None\n",
    "        \n",
    "    def __repr__(self):\n",
    "        params = self.data[:, :-1]\n",
    "        answers = self.data[:, -1]\n",
    "\n",
    "        max_param = params.max().max()\n",
    "        len_max_param = len(str(max_param))\n",
    "        max_answer = answers.max().max()\n",
    "        len_max_answer = len(str(max_answer))\n",
    "\n",
    "        return '\\n'.join(\n",
    "            [f'|'.join(\n",
    "                [''.join([f'{num:{len_max_param + 2}}' for num in row])] \n",
    "                + [f'{answer:{len_max_answer + 1}}']\n",
    "            )\n",
    "            for row, answer in zip(params, answers)]\n",
    "        )\n",
    "\n",
    "    def get_ith_equation(self, i):\n",
    "        elements = [\n",
    "            coef_i * x_i\n",
    "            for coef_i, x_i\n",
    "            in zip(self.data[i], self.vars)\n",
    "        ]\n",
    "        elements.append(-self.data[i, -1])\n",
    "        return sum(elements)\n",
    "    \n",
    "    @staticmethod\n",
    "    def swap_rows(M, i, j) -> None:\n",
    "        M[[i, i + j]] = M[[i + j, i]]\n",
    "        \n",
    "    @staticmethod\n",
    "    def multiply_and_add_rows(M, from_row, to_row, scale):\n",
    "        M[to_row] += scale * M[from_row]\n",
    "        \n",
    "    @staticmethod\n",
    "    def multiply_row(M, row, scale):\n",
    "        M[row] *= scale\n",
    "    \n",
    "    def forward_gauss(self, M):\n",
    "        # move all zeros to buttom of matrix\n",
    "        M = np.concatenate((M[np.any(M != 0, axis=1)], M[np.all(M == 0, axis=1)]), axis=0)\n",
    "\n",
    "        # iterate over matrix rows\n",
    "        for i in range(M.shape[0]):\n",
    "\n",
    "            # initialize row-swap iterator\n",
    "            j = 1\n",
    "\n",
    "            # select pivot value\n",
    "            pivot = M[i][i]\n",
    "\n",
    "            # find next non-zero leading coefficient\n",
    "            while pivot == 0 and i + j < M.shape[0]:\n",
    "                # perform row swap operation\n",
    "                self.swap_rows(M, i, j)\n",
    "\n",
    "                # incrememnt row-swap iterator\n",
    "                j += 1\n",
    "\n",
    "                # get new pivot\n",
    "                pivot = M[i][i]\n",
    "\n",
    "            # if pivot is zero, remaining rows are all zeros\n",
    "            if pivot == 0:\n",
    "                return M\n",
    "\n",
    "            # extract row\n",
    "            row = M[i]\n",
    "\n",
    "            # get 1 along the diagonal\n",
    "            self.multiply_row(M, i, 1 / pivot)\n",
    "\n",
    "            # iterate over remaining rows\n",
    "            for j in range(i + 1, M.shape[0]):\n",
    "                # subtract current row from remaining rows\n",
    "                self.multiply_and_add_rows(M, from_row=i, to_row=j, scale=-M[j][i])\n",
    "\n",
    "        # return upper triangular matrix\n",
    "        return M\n",
    "\n",
    "    def backward_gauss(self, M):\n",
    "        for i in range(M.shape[0] - 1, 0, -1):\n",
    "            row = M[i]\n",
    "            if not np.all(row == 0):\n",
    "                main_coef_idx = row.nonzero()[0][0]\n",
    "\n",
    "                # make zeros above the main coef\n",
    "                for j in range(i - 1, -1, -1):\n",
    "                    value_to_eliminate = M[j, main_coef_idx]\n",
    "                    self.multiply_and_add_rows(M, from_row=i, to_row=j, scale=-value_to_eliminate)\n",
    "        return M\n",
    "\n",
    "    def get_solutions(self, M, syms):\n",
    "        syms = syms[:]\n",
    "        # symbolic variable index\n",
    "        for i, row in reversed(list(enumerate(M))):\n",
    "            # create symbolic equation\n",
    "            eqn = -M[i][-1]\n",
    "            for j in range(len(syms)):\n",
    "                eqn += syms[j] * row[j]\n",
    "\n",
    "            # solve symbolic expression and store variable\n",
    "            try:\n",
    "                syms[i] = sp.solve(eqn, syms[i])[0]\n",
    "            except IndexError:\n",
    "                # many solutions\n",
    "                if np.all(self.triangular_matrix[-1] == 0):\n",
    "                    remaining_equations = self.triangular_matrix[\n",
    "                        ~np.all(self.triangular_matrix == 0, axis=1)\n",
    "                    ]\n",
    "\n",
    "                    solutions = (remaining_equations[:, :-1] @ m.vars - remaining_equations[:, -1]).tolist()\n",
    "                    solutions = [\n",
    "                        sp.Eq(var, equation) if var != equation\n",
    "                        else var\n",
    "                        for var, equation in zip(m.vars, sp.linsolve(solutions, self.vars).args[0])\n",
    "                    ]\n",
    "                    return sp.FiniteSet(*solutions)\n",
    "                return []\n",
    "\n",
    "        # return list of evaluated variables\n",
    "        return syms\n",
    "    \n",
    "    def solve(self):\n",
    "        self.triangular_matrix = self.forward_gauss(self.data.astype(np.float32))\n",
    "        self.triangular_matrix = self.backward_gauss(self.triangular_matrix)\n",
    "        result = self.get_solutions(self.triangular_matrix, self.vars)\n",
    "\n",
    "        return result"
   ]
  },
  {
   "cell_type": "code",
   "execution_count": 76,
   "metadata": {},
   "outputs": [
    {
     "data": {
      "text/plain": [
       "  1  2|     3\n",
       "  3  4| 50000"
      ]
     },
     "execution_count": 76,
     "metadata": {},
     "output_type": "execute_result"
    }
   ],
   "source": [
    "data = [\n",
    "    [1, 2, 3], \n",
    "    [3, 4, 50000]\n",
    "]\n",
    "\n",
    "m = Matrix(data)\n",
    "m"
   ]
  },
  {
   "cell_type": "code",
   "execution_count": 77,
   "metadata": {},
   "outputs": [
    {
     "data": {
      "text/plain": [
       "[49994.0000000000, -24995.5000000000]"
      ]
     },
     "execution_count": 77,
     "metadata": {},
     "output_type": "execute_result"
    }
   ],
   "source": [
    "m.solve()"
   ]
  },
  {
   "cell_type": "code",
   "execution_count": 78,
   "metadata": {},
   "outputs": [
    {
     "data": {
      "text/latex": [
       "$\\displaystyle x_{1} + 2 x_{2} - 3$"
      ],
      "text/plain": [
       "x1 + 2*x2 - 3"
      ]
     },
     "execution_count": 78,
     "metadata": {},
     "output_type": "execute_result"
    }
   ],
   "source": [
    "m.equations[0]"
   ]
  },
  {
   "cell_type": "code",
   "execution_count": 79,
   "metadata": {},
   "outputs": [
    {
     "data": {
      "text/plain": [
       "  1  2|  3\n",
       "  3  4| 50"
      ]
     },
     "execution_count": 79,
     "metadata": {},
     "output_type": "execute_result"
    }
   ],
   "source": [
    "data = [\n",
    "    [1, 2, 3], \n",
    "    [3, 4, 50]\n",
    "]\n",
    "\n",
    "m = Matrix(data)\n",
    "m"
   ]
  },
  {
   "cell_type": "code",
   "execution_count": 80,
   "metadata": {},
   "outputs": [
    {
     "data": {
      "text/plain": [
       "[44.0000000000000, -20.5000000000000]"
      ]
     },
     "execution_count": 80,
     "metadata": {},
     "output_type": "execute_result"
    }
   ],
   "source": [
    "m.solve()"
   ]
  },
  {
   "cell_type": "code",
   "execution_count": 81,
   "metadata": {},
   "outputs": [
    {
     "data": {
      "text/plain": [
       "array([[  1. ,   0. ,  44. ],\n",
       "       [ -0. ,   1. , -20.5]], dtype=float32)"
      ]
     },
     "execution_count": 81,
     "metadata": {},
     "output_type": "execute_result"
    }
   ],
   "source": [
    "m.triangular_matrix"
   ]
  },
  {
   "cell_type": "code",
   "execution_count": 82,
   "metadata": {},
   "outputs": [],
   "source": [
    "one_solution = [\n",
    "    [\n",
    "        [2, -3, 7],\n",
    "        [4, 1, 2],\n",
    "    ],\n",
    "    [\n",
    "        [1, 2, -1, 4],\n",
    "        [2, -1, 3, 9],\n",
    "        [3, 1, -2, 1],\n",
    "    ],\n",
    "    [\n",
    "        [1, 2, -1, 3, 10],\n",
    "        [2, 3, 1, -2, 5],\n",
    "        [3, 0, -1, 4, 12],\n",
    "        [4, 1, 1, 1, 8],\n",
    "    ],\n",
    "]\n",
    "\n",
    "no_solutions = [\n",
    "    [\n",
    "        [2, -3, 7],\n",
    "        [4, -6, 12],\n",
    "    ],\n",
    "    [\n",
    "        [1, 2, -1, 4],\n",
    "        [2, 4, -2, 8],\n",
    "    ],\n",
    "    [\n",
    "        [1, 2, -1, 3, 10],\n",
    "        [2, 3, 1, -2, 5],\n",
    "        [3, -1, 4, 1, 12],\n",
    "        [4, 0, 1, 1, 6],\n",
    "    ],\n",
    "]\n",
    "\n",
    "infinite_solutions = [\n",
    "    [\n",
    "        [2, 3, 6],\n",
    "        [4, 6, 12],\n",
    "    ],\n",
    "    [\n",
    "        [1, -2, 5],\n",
    "        [2, -4, 10],\n",
    "    ],\n",
    "    [\n",
    "        [1, 2, -1, 3, 8],\n",
    "        [2, 4, -2, 6, 16],\n",
    "        [3, 6, -3, 9, 24],\n",
    "        [4, 8, -4, 12, 32],\n",
    "    ],\n",
    "]"
   ]
  },
  {
   "cell_type": "markdown",
   "metadata": {},
   "source": [
    "#### one solution"
   ]
  },
  {
   "cell_type": "code",
   "execution_count": 83,
   "metadata": {},
   "outputs": [
    {
     "data": {
      "text/plain": [
       "[0.928571224212646, -1.71428585052490]"
      ]
     },
     "execution_count": 83,
     "metadata": {},
     "output_type": "execute_result"
    }
   ],
   "source": [
    "m = Matrix(one_solution[0])\n",
    "m.solve()"
   ]
  },
  {
   "cell_type": "code",
   "execution_count": 84,
   "metadata": {},
   "outputs": [
    {
     "data": {
      "text/plain": [
       "array([[ 1.       ,  0.       ,  0.9285712],\n",
       "       [ 0.       ,  1.       , -1.7142859]], dtype=float32)"
      ]
     },
     "execution_count": 84,
     "metadata": {},
     "output_type": "execute_result"
    }
   ],
   "source": [
    "m.triangular_matrix"
   ]
  },
  {
   "cell_type": "code",
   "execution_count": 85,
   "metadata": {},
   "outputs": [
    {
     "data": {
      "text/plain": [
       "[1.40000009536743, 2.79999995231628, 3.00000000000000]"
      ]
     },
     "execution_count": 85,
     "metadata": {},
     "output_type": "execute_result"
    }
   ],
   "source": [
    "m = Matrix(one_solution[1])\n",
    "m.solve()"
   ]
  },
  {
   "cell_type": "code",
   "execution_count": 86,
   "metadata": {},
   "outputs": [
    {
     "data": {
      "text/plain": [
       "array([[ 1.       ,  0.       ,  0.       ,  1.4000001],\n",
       "       [-0.       ,  1.       ,  0.       ,  2.8      ],\n",
       "       [-0.       , -0.       ,  1.       ,  3.       ]], dtype=float32)"
      ]
     },
     "execution_count": 86,
     "metadata": {},
     "output_type": "execute_result"
    }
   ],
   "source": [
    "m.triangular_matrix"
   ]
  },
  {
   "cell_type": "code",
   "execution_count": 87,
   "metadata": {},
   "outputs": [
    {
     "data": {
      "text/plain": [
       "[2.28125000000000, 1.53125000000000, -3.15625000000000, 0.500000000000000]"
      ]
     },
     "execution_count": 87,
     "metadata": {},
     "output_type": "execute_result"
    }
   ],
   "source": [
    "m = Matrix(one_solution[2])\n",
    "m.solve()"
   ]
  },
  {
   "cell_type": "markdown",
   "metadata": {},
   "source": [
    "#### no solutions"
   ]
  },
  {
   "cell_type": "code",
   "execution_count": 88,
   "metadata": {},
   "outputs": [
    {
     "data": {
      "text/plain": [
       "[]"
      ]
     },
     "execution_count": 88,
     "metadata": {},
     "output_type": "execute_result"
    }
   ],
   "source": [
    "m = Matrix(no_solutions[0])\n",
    "m.solve()"
   ]
  },
  {
   "cell_type": "code",
   "execution_count": 89,
   "metadata": {},
   "outputs": [
    {
     "data": {
      "text/plain": [
       "  2 -3|  7\n",
       "  4 -6| 12"
      ]
     },
     "execution_count": 89,
     "metadata": {},
     "output_type": "execute_result"
    }
   ],
   "source": [
    "m"
   ]
  },
  {
   "cell_type": "code",
   "execution_count": 90,
   "metadata": {},
   "outputs": [
    {
     "data": {
      "text/plain": [
       "array([[ 1. , -1.5, 10.5],\n",
       "       [ 0. ,  0. , -2. ]], dtype=float32)"
      ]
     },
     "execution_count": 90,
     "metadata": {},
     "output_type": "execute_result"
    }
   ],
   "source": [
    "m.triangular_matrix"
   ]
  },
  {
   "cell_type": "code",
   "execution_count": 91,
   "metadata": {},
   "outputs": [],
   "source": [
    "data = np.array([[1., 2., -1., 4.],\n",
    "              [3., -1., 2., 7.],\n",
    "              [0., 5., 4., 3.]], dtype=float)"
   ]
  },
  {
   "cell_type": "code",
   "execution_count": 94,
   "metadata": {},
   "outputs": [
    {
     "data": {
      "text/plain": [
       "[2.60377359390259, 0.660377383232117, -0.0754717290401459]"
      ]
     },
     "execution_count": 94,
     "metadata": {},
     "output_type": "execute_result"
    }
   ],
   "source": [
    "Matrix(data).solve()"
   ]
  },
  {
   "cell_type": "markdown",
   "metadata": {},
   "source": [
    "#### many solutions"
   ]
  },
  {
   "cell_type": "code",
   "execution_count": 95,
   "metadata": {},
   "outputs": [
    {
     "data": {
      "text/latex": [
       "$\\displaystyle \\left\\{x_{2}, x_{1} = 3.0 - 1.5 x_{2}\\right\\}$"
      ],
      "text/plain": [
       "FiniteSet(x2, Eq(x1, 3.0 - 1.5*x2))"
      ]
     },
     "execution_count": 95,
     "metadata": {},
     "output_type": "execute_result"
    }
   ],
   "source": [
    "m = Matrix(infinite_solutions[0])\n",
    "res = m.solve()\n",
    "res"
   ]
  },
  {
   "cell_type": "code",
   "execution_count": 96,
   "metadata": {},
   "outputs": [
    {
     "data": {
      "text/plain": [
       "array([[1. , 1.5, 3. ],\n",
       "       [0. , 0. , 0. ]], dtype=float32)"
      ]
     },
     "execution_count": 96,
     "metadata": {},
     "output_type": "execute_result"
    }
   ],
   "source": [
    "m.triangular_matrix"
   ]
  },
  {
   "cell_type": "code",
   "execution_count": 13,
   "metadata": {},
   "outputs": [
    {
     "data": {
      "text/latex": [
       "$\\displaystyle \\left\\{x_{2}, x_{1} = 2.0 x_{2} + 5.0\\right\\}$"
      ],
      "text/plain": [
       "FiniteSet(x2, Eq(x1, 2.0*x2 + 5.0))"
      ]
     },
     "execution_count": 13,
     "metadata": {},
     "output_type": "execute_result"
    }
   ],
   "source": [
    "m = Matrix(infinite_solutions[1])\n",
    "res = m.solve()\n",
    "res"
   ]
  },
  {
   "cell_type": "code",
   "execution_count": 98,
   "metadata": {},
   "outputs": [
    {
     "data": {
      "text/latex": [
       "$\\displaystyle \\left\\{x_{2}, x_{3}, x_{4}, x_{1} = - 2.0 x_{2} + 1.0 x_{3} - 3.0 x_{4} + 8.0\\right\\}$"
      ],
      "text/plain": [
       "FiniteSet(x2, x3, x4, Eq(x1, -2.0*x2 + 1.0*x3 - 3.0*x4 + 8.0))"
      ]
     },
     "execution_count": 98,
     "metadata": {},
     "output_type": "execute_result"
    }
   ],
   "source": [
    "m = Matrix(infinite_solutions[2])\n",
    "res = m.solve()\n",
    "res"
   ]
  }
 ],
 "metadata": {
  "kernelspec": {
   "display_name": "Python 3",
   "language": "python",
   "name": "python3"
  },
  "language_info": {
   "codemirror_mode": {
    "name": "ipython",
    "version": 3
   },
   "file_extension": ".py",
   "mimetype": "text/x-python",
   "name": "python",
   "nbconvert_exporter": "python",
   "pygments_lexer": "ipython3",
   "version": "3.8.5"
  }
 },
 "nbformat": 4,
 "nbformat_minor": 2
}
